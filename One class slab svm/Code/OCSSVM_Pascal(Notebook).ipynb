{
  "nbformat": 4,
  "nbformat_minor": 0,
  "metadata": {
    "colab": {
      "name": "OCSSVM Pascal Dataset.ipynb",
      "provenance": []
    },
    "kernelspec": {
      "name": "python3",
      "display_name": "Python 3"
    },
    "language_info": {
      "name": "python"
    }
  },
  "cells": [
    {
      "cell_type": "markdown",
      "metadata": {
        "id": "iEsU2i1r-Nxy"
      },
      "source": [
        "# Essential imports"
      ]
    },
    {
      "cell_type": "code",
      "metadata": {
        "id": "OfzkUtMY4tOp"
      },
      "source": [
        "import cvxpy as cp\n",
        "import numpy as np\n",
        "import pandas as pd"
      ],
      "execution_count": null,
      "outputs": []
    },
    {
      "cell_type": "markdown",
      "metadata": {
        "id": "2-4AF2gFG1_p"
      },
      "source": [
        "# Preprocessing Data"
      ]
    },
    {
      "cell_type": "code",
      "metadata": {
        "id": "rfu5SXPY_YJX"
      },
      "source": [
        "data = pd.read_csv(\"/content/drive/MyDrive/DM/Image-pixels.csv\")"
      ],
      "execution_count": null,
      "outputs": []
    },
    {
      "cell_type": "code",
      "metadata": {
        "id": "DSulKBTRkpob"
      },
      "source": [
        "header = []\n",
        "for i in range(22501):\n",
        "  header.append(str(i))\n",
        "data.columns = header"
      ],
      "execution_count": null,
      "outputs": []
    },
    {
      "cell_type": "code",
      "metadata": {
        "colab": {
          "base_uri": "https://localhost:8080/"
        },
        "id": "jxEkl00PkSiG",
        "outputId": "57f84001-b4f7-438d-d5cf-1b2521618e8c"
      },
      "source": [
        "print(data)"
      ],
      "execution_count": null,
      "outputs": [
        {
          "output_type": "stream",
          "text": [
            "          0      1      2      3      4  ...  22496  22497  22498  22499  22500\n",
            "0     118.0  119.0  118.0  118.0  117.0  ...  102.0  103.0  105.0  105.0    0.0\n",
            "1     213.0  214.0  214.0  212.0  213.0  ...  148.0  154.0  163.0  158.0    0.0\n",
            "2     129.0  127.0  128.0  129.0  127.0  ...  129.0  124.0  123.0  132.0    0.0\n",
            "3     110.0  109.0  108.0  107.0  109.0  ...   81.0   77.0   82.0   79.0    0.0\n",
            "4     255.0  255.0  255.0  255.0  255.0  ...  171.0  121.0  119.0  126.0    0.0\n",
            "...     ...    ...    ...    ...    ...  ...    ...    ...    ...    ...    ...\n",
            "4377  240.0  240.0  240.0  241.0  239.0  ...   98.0  100.0   99.0   79.0    6.0\n",
            "4378  184.0  207.0  203.0  204.0  190.0  ...  173.0  107.0  119.0  193.0    6.0\n",
            "4379   27.0   75.0   39.0   29.0   28.0  ...  205.0  198.0  199.0  212.0    6.0\n",
            "4380  255.0  254.0  254.0  251.0  253.0  ...   83.0   81.0   58.0   81.0    6.0\n",
            "4381   54.0   51.0   54.0   48.0   47.0  ...  120.0  120.0  121.0  119.0    6.0\n",
            "\n",
            "[4382 rows x 22501 columns]\n"
          ],
          "name": "stdout"
        }
      ]
    },
    {
      "cell_type": "markdown",
      "metadata": {
        "id": "NkK58IN7GSVp"
      },
      "source": [
        "# Normalization"
      ]
    },
    {
      "cell_type": "code",
      "metadata": {
        "colab": {
          "base_uri": "https://localhost:8080/"
        },
        "id": "rzMVHNBx36qO",
        "outputId": "a0c494e7-c036-4e04-c24d-2b1e414f6f0a"
      },
      "source": [
        "for i in range(0,22500):\n",
        "  col = data.columns[i]\n",
        "  mx = max(data[col])\n",
        "  mn = min(data[col])\n",
        "  d = mx - mn\n",
        "  data[col] -= mn\n",
        "  data[col] /= d\n",
        "\n",
        "print(data)"
      ],
      "execution_count": null,
      "outputs": [
        {
          "output_type": "stream",
          "text": [
            "             0         1         2  ...     22498     22499  22500\n",
            "0     0.462745  0.466667  0.462745  ...  0.411765  0.411765    0.0\n",
            "1     0.835294  0.839216  0.839216  ...  0.639216  0.619608    0.0\n",
            "2     0.505882  0.498039  0.501961  ...  0.482353  0.517647    0.0\n",
            "3     0.431373  0.427451  0.423529  ...  0.321569  0.309804    0.0\n",
            "4     1.000000  1.000000  1.000000  ...  0.466667  0.494118    0.0\n",
            "...        ...       ...       ...  ...       ...       ...    ...\n",
            "4377  0.941176  0.941176  0.941176  ...  0.388235  0.309804    6.0\n",
            "4378  0.721569  0.811765  0.796078  ...  0.466667  0.756863    6.0\n",
            "4379  0.105882  0.294118  0.152941  ...  0.780392  0.831373    6.0\n",
            "4380  1.000000  0.996078  0.996078  ...  0.227451  0.317647    6.0\n",
            "4381  0.211765  0.200000  0.211765  ...  0.474510  0.466667    6.0\n",
            "\n",
            "[4382 rows x 22501 columns]\n"
          ],
          "name": "stdout"
        }
      ]
    },
    {
      "cell_type": "code",
      "metadata": {
        "id": "WedCfJHD_dkG",
        "colab": {
          "base_uri": "https://localhost:8080/"
        },
        "outputId": "654b00dd-1d8a-4158-f76a-aea6563df65c"
      },
      "source": [
        "only_zero_df = data.loc[data['22500']==0]\n",
        "total = len(only_zero_df)\n",
        "train = int(0.8*total) # number of A samples in training\n",
        "test = total -train # number of A samples in testing\n",
        "\n",
        "only_zero = only_zero_df.to_numpy()\n",
        "only_zero = np.delete(only_zero, -1, axis=1)\n",
        "print(only_zero,only_zero.shape)"
      ],
      "execution_count": null,
      "outputs": [
        {
          "output_type": "stream",
          "text": [
            "[[0.4627451  0.46666667 0.4627451  ... 0.40392157 0.41176471 0.41176471]\n",
            " [0.83529412 0.83921569 0.83921569 ... 0.60392157 0.63921569 0.61960784]\n",
            " [0.50588235 0.49803922 0.50196078 ... 0.48627451 0.48235294 0.51764706]\n",
            " ...\n",
            " [0.36078431 0.38039216 0.36862745 ... 0.37254902 0.36470588 0.37647059]\n",
            " [0.81960784 0.80392157 0.79215686 ... 0.3372549  0.3372549  0.34901961]\n",
            " [0.35686275 0.36078431 0.35686275 ... 0.38039216 0.37647059 0.37254902]] (670, 22500)\n"
          ],
          "name": "stdout"
        }
      ]
    },
    {
      "cell_type": "markdown",
      "metadata": {
        "id": "2AW72LNKG4_w"
      },
      "source": [
        "# Train and Test split"
      ]
    },
    {
      "cell_type": "code",
      "metadata": {
        "colab": {
          "base_uri": "https://localhost:8080/"
        },
        "id": "qve9p-roCNtX",
        "outputId": "4d942923-f891-4874-833e-3ee2d5ed9ea0"
      },
      "source": [
        "train_X = only_zero[0:train]\n",
        "print(train_X,train_X.shape)"
      ],
      "execution_count": null,
      "outputs": [
        {
          "output_type": "stream",
          "text": [
            "[[0.4627451  0.46666667 0.4627451  ... 0.40392157 0.41176471 0.41176471]\n",
            " [0.83529412 0.83921569 0.83921569 ... 0.60392157 0.63921569 0.61960784]\n",
            " [0.50588235 0.49803922 0.50196078 ... 0.48627451 0.48235294 0.51764706]\n",
            " ...\n",
            " [0.61568627 0.61568627 0.61568627 ... 0.4745098  0.47843137 0.47843137]\n",
            " [0.43921569 0.45490196 0.4627451  ... 0.58823529 0.58431373 0.57254902]\n",
            " [0.5254902  0.52156863 0.52156863 ... 0.70588235 0.70588235 0.70588235]] (536, 22500)\n"
          ],
          "name": "stdout"
        }
      ]
    },
    {
      "cell_type": "code",
      "metadata": {
        "colab": {
          "base_uri": "https://localhost:8080/"
        },
        "id": "sLgPRzqDn3xd",
        "outputId": "f3de6529-5ff5-4b6d-f292-b7c29ec305ec"
      },
      "source": [
        "test_X = only_zero[train:]\n",
        "test_Y = [1]*test\n",
        "\n",
        "for i in range(1,7,1):\n",
        "  temp = data.loc[data['22500']==i][0:5]\n",
        "  temp = temp.to_numpy()\n",
        "  temp = np.delete(temp, -1, axis=1)\n",
        "  test_X = np.vstack((test_X,temp))\n",
        "  tempy = [-1]*5\n",
        "  test_Y.extend(tempy)\n",
        "\n",
        "print(test_X,test_X.shape)\n",
        "test_Y = np.array(test_Y)\n",
        "print(test_Y,test_Y.shape)"
      ],
      "execution_count": null,
      "outputs": [
        {
          "output_type": "stream",
          "text": [
            "[[0.45882353 0.47058824 0.48235294 ... 0.05098039 0.03921569 0.05098039]\n",
            " [0.7372549  0.74117647 0.74509804 ... 0.64313725 0.64705882 0.65098039]\n",
            " [0.76470588 0.76470588 0.76862745 ... 0.64705882 0.64705882 0.64313725]\n",
            " ...\n",
            " [0.95294118 0.95686275 0.96078431 ... 0.05490196 0.0745098  0.09411765]\n",
            " [0.45098039 0.45098039 0.45098039 ... 0.3372549  0.32941176 0.27843137]\n",
            " [0.47058824 0.48235294 0.48235294 ... 0.80784314 0.87843137 0.30196078]] (164, 22500)\n",
            "[ 1  1  1  1  1  1  1  1  1  1  1  1  1  1  1  1  1  1  1  1  1  1  1  1\n",
            "  1  1  1  1  1  1  1  1  1  1  1  1  1  1  1  1  1  1  1  1  1  1  1  1\n",
            "  1  1  1  1  1  1  1  1  1  1  1  1  1  1  1  1  1  1  1  1  1  1  1  1\n",
            "  1  1  1  1  1  1  1  1  1  1  1  1  1  1  1  1  1  1  1  1  1  1  1  1\n",
            "  1  1  1  1  1  1  1  1  1  1  1  1  1  1  1  1  1  1  1  1  1  1  1  1\n",
            "  1  1  1  1  1  1  1  1  1  1  1  1  1  1 -1 -1 -1 -1 -1 -1 -1 -1 -1 -1\n",
            " -1 -1 -1 -1 -1 -1 -1 -1 -1 -1 -1 -1 -1 -1 -1 -1 -1 -1 -1 -1] (164,)\n"
          ],
          "name": "stdout"
        }
      ]
    },
    {
      "cell_type": "markdown",
      "metadata": {
        "id": "iTE6zY1c9-Kl"
      },
      "source": [
        "# Defining kernels"
      ]
    },
    {
      "cell_type": "code",
      "metadata": {
        "id": "ZM6uuEcj6SzR"
      },
      "source": [
        "def linear_kernel(x1, x2):\n",
        "\n",
        "  return np.dot(x1, x2)\n",
        "\n",
        "def polynomial_kernel(x, y, p=3):\n",
        "\n",
        "  return (1 + np.dot(x, y)) ** p\n",
        "\n",
        "def gaussian_kernel(x, y, sigma=5.0):\n",
        "\n",
        "  return np.exp(-np.linalg.norm(x-y)**2 / (2 * (sigma ** 2)))\n",
        "\n",
        "def hellinger_kernel(X1, X2):\n",
        "\n",
        "  X1,X2 = np.sqrt(X1),np.sqrt(X2)\n",
        "\n",
        "  return X1 @ X2\n",
        "\n",
        "def chi_square_kernel(x,y):\n",
        "\n",
        "  sum = 0.0\n",
        "\n",
        "  for i in range(len(x)):\n",
        "\n",
        "    if (x[i]+y[i]) != 0:\n",
        "      sum += (2*x[i]*y[i])/(x[i]+y[i])\n",
        "  \n",
        "  return sum\n",
        "\n",
        "def intersection_kernel(x,y):\n",
        "\n",
        "  sum = 0.0\n",
        "\n",
        "  for i in range(len(x)):\n",
        "\n",
        "    sum += min(x[i],y[i])\n",
        "  \n",
        "  return sum"
      ],
      "execution_count": null,
      "outputs": []
    },
    {
      "cell_type": "markdown",
      "metadata": {
        "id": "On-y1U2w-I7V"
      },
      "source": [
        "# Calculating kernel matrix"
      ]
    },
    {
      "cell_type": "code",
      "metadata": {
        "id": "DrOdee9O6pC_"
      },
      "source": [
        "def kernel_matrix(X,kernel=linear_kernel):\n",
        "  m = X.shape[0]\n",
        "  K = np.zeros((m,m))\n",
        "  for i in range(m):\n",
        "    for j in range(m):\n",
        "      K[i,j] = kernel(X[i], X[j])\n",
        "  \n",
        "  return K"
      ],
      "execution_count": null,
      "outputs": []
    },
    {
      "cell_type": "markdown",
      "metadata": {
        "id": "qRGUoWmJrRGT"
      },
      "source": [
        "# Parameters"
      ]
    },
    {
      "cell_type": "code",
      "metadata": {
        "id": "-2f05658rPbt"
      },
      "source": [
        "m = len(train_X)\n",
        "v1,v2 = 0.9,0.9\n",
        "e = 2/3\n",
        "c1,c2 = 1/(v1*m),e/(v2*m)"
      ],
      "execution_count": null,
      "outputs": []
    },
    {
      "cell_type": "markdown",
      "metadata": {
        "id": "aYlDXhG_-UI0"
      },
      "source": [
        "# Solving Optimization problem"
      ]
    },
    {
      "cell_type": "code",
      "metadata": {
        "id": "uhTnLjUK71Sj"
      },
      "source": [
        "def optimize(train_X,c1,c2,e,kernel=linear_kernel):\n",
        "\n",
        "  m = len(train_X) # number of samples\n",
        "  n = len(train_X[0])  # number of features in one samples\n",
        "\n",
        "  alpha = cp.Variable(m)\n",
        "  alpha1 = cp.Variable(m)\n",
        "\n",
        "  A1 = np.ones((1,m))\n",
        "  b1 = np.array([1])\n",
        "  b2 = np.array([e])\n",
        "\n",
        "  G = np.eye(m)\n",
        "  h = np.full((m,),0)\n",
        "  h1 = np.full((m,),c1)\n",
        "  h2 = np.full((m,),c2)\n",
        "  G1 = -np.eye(m)\n",
        "\n",
        "  K = kernel_matrix(train_X,kernel)\n",
        "  # print(K)\n",
        "\n",
        "  prob = cp.Problem(cp.Minimize((1/2)*cp.quad_form((alpha-alpha1),K)),\n",
        "                    [A1 @ alpha == b1,\n",
        "                    A1 @ alpha1 == b2,\n",
        "                    G @ alpha <= h1,\n",
        "                    G @ alpha1 <=h2,\n",
        "                    G1 @ alpha <= h,\n",
        "                    G1 @ alpha1 <= h])\n",
        "  prob.solve()\n",
        "  print(prob.status+\" Solution found\")\n",
        "\n",
        "  # print(\"\\nThe optimal value is\", prob.value)\n",
        "  # print(\"A solution for dual variables is\")\n",
        "  alpha = alpha.value\n",
        "  alpha1 = alpha1.value\n",
        "  # print(alpha1)\n",
        "  # print(alpha)\n",
        "\n",
        "  return alpha,alpha1"
      ],
      "execution_count": null,
      "outputs": []
    },
    {
      "cell_type": "markdown",
      "metadata": {
        "id": "ia7Ynpn5-nsv"
      },
      "source": [
        "# Calculating offsets/bias"
      ]
    },
    {
      "cell_type": "code",
      "metadata": {
        "id": "RE-EKv8hABTU"
      },
      "source": [
        "def calculate_bias(alpha,alpha1,c1,c2,X,kernel=linear_kernel):\n",
        "\n",
        "  m = X.shape[0] # number of samples\n",
        "\n",
        "  n = 0 # number of support vectors\n",
        "  sum = 0\n",
        "\n",
        "  for i in range(m):\n",
        "    if (alpha[i]>0 and alpha[i]<c1):\n",
        "      n+=1\n",
        "      for j in range(m):\n",
        "        sum += ((alpha[j]-alpha1[j])*kernel(X[i],X[j]))\n",
        "  \n",
        "  sum = sum/n;\n",
        "  # print(n,' out of ',m)\n",
        "  p1 = sum\n",
        "\n",
        "  n = 0 # number of support vectors\n",
        "  sum = 0.0\n",
        "\n",
        "  for i in range(m):\n",
        "    if (alpha1[i]>0 and alpha1[i]<c2):\n",
        "      n+=1\n",
        "      for j in range(m):\n",
        "        sum += ((alpha[j]-alpha1[j])*kernel(X[i],X[j]))\n",
        "  \n",
        "  sum = sum/n;\n",
        "  # print(n,' out of ',m)\n",
        "\n",
        "  p2=sum\n",
        "\n",
        "  return p1,p2"
      ],
      "execution_count": null,
      "outputs": []
    },
    {
      "cell_type": "markdown",
      "metadata": {
        "id": "OPnB2Ks7-sTu"
      },
      "source": [
        "# Calculating svm score"
      ]
    },
    {
      "cell_type": "code",
      "metadata": {
        "id": "rQqaqLHV7ZcL"
      },
      "source": [
        "def svm_score(x,train_X,alpha,alpha1,kernel=linear_kernel):\n",
        "\n",
        "  m = train_X.shape[0] # number of samples\n",
        "  score = 0.0\n",
        "\n",
        "  for i in range(m):\n",
        "    score += (alpha[i]-alpha1[i])*kernel(x,train_X[i])\n",
        "  \n",
        "  return score"
      ],
      "execution_count": null,
      "outputs": []
    },
    {
      "cell_type": "markdown",
      "metadata": {
        "id": "3O4oWqNj-xbr"
      },
      "source": [
        "# Prediction function"
      ]
    },
    {
      "cell_type": "code",
      "metadata": {
        "id": "oWpuQTBx8xS5"
      },
      "source": [
        "def predict(x,train_X,p1,p2,alpha,alpha1,kernel=linear_kernel):\n",
        "\n",
        "  score = svm_score(x,train_X,alpha,alpha1,kernel)\n",
        "  return np.sign((score-p1)*(p2-score))"
      ],
      "execution_count": null,
      "outputs": []
    },
    {
      "cell_type": "markdown",
      "metadata": {
        "id": "97tGRqgCLtjs"
      },
      "source": [
        "# Using Linear Kernel"
      ]
    },
    {
      "cell_type": "code",
      "metadata": {
        "colab": {
          "base_uri": "https://localhost:8080/"
        },
        "id": "bUd42kOW628l",
        "outputId": "a2a88664-10ac-4bb4-b01a-f335276a5f27"
      },
      "source": [
        "# first calculating biases\n",
        "from sklearn.metrics import matthews_corrcoef\n",
        "\n",
        "alpha,alpha1 = optimize(train_X,c1,c2,e,linear_kernel)\n",
        "p1,p2 = calculate_bias(alpha,alpha1,c1,c2,train_X,linear_kernel)\n",
        "\n",
        "pred_Y = []\n",
        "total_test = len(test_Y)\n",
        "correct = 0\n",
        "for i in range(total_test):\n",
        "  \n",
        "  res = predict(test_X[i],train_X,p1,p2,alpha,alpha1,linear_kernel)\n",
        "  pred_Y.append(int(res))\n",
        "  # print(res)\n",
        "\n",
        "print(\"matthews correlation coefficient: \",matthews_corrcoef(test_Y, pred_Y))"
      ],
      "execution_count": null,
      "outputs": [
        {
          "output_type": "stream",
          "text": [
            "optimal Solution found\n",
            "matthews correlation coefficient:  -0.054659483230836456\n"
          ],
          "name": "stdout"
        }
      ]
    },
    {
      "cell_type": "markdown",
      "metadata": {
        "id": "4LaQ27rANCUc"
      },
      "source": [
        "# Using Polynomial Kernel"
      ]
    },
    {
      "cell_type": "code",
      "metadata": {
        "id": "QZtbaOBNNCUd"
      },
      "source": [
        "# first calculating biases\n",
        "from sklearn.metrics import matthews_corrcoef\n",
        "\n",
        "alpha,alpha1 = optimize(train_X,c1,c2,e,polynomial_kernel)\n",
        "p1,p2 = calculate_bias(alpha,alpha1,c1,c2,train_X,polynomial_kernel)\n",
        "\n",
        "pred_Y = []\n",
        "total_test = len(test_Y)\n",
        "correct = 0\n",
        "for i in range(total_test):\n",
        "  \n",
        "  res = predict(test_X[i],train_X,p1,p2,alpha,alpha1,polynomial_kernel)\n",
        "  pred_Y.append(int(res))\n",
        "  # print(res)\n",
        "\n",
        "print(\"matthews correlation coefficient: \",matthews_corrcoef(test_Y, pred_Y))"
      ],
      "execution_count": null,
      "outputs": []
    },
    {
      "cell_type": "markdown",
      "metadata": {
        "id": "SO-0zxxWNR7J"
      },
      "source": [
        "# Using Gaussian Kernel"
      ]
    },
    {
      "cell_type": "code",
      "metadata": {
        "colab": {
          "base_uri": "https://localhost:8080/"
        },
        "id": "sptwwr0qNR7K",
        "outputId": "96174304-7ab0-4b2b-b28c-5782446e0c58"
      },
      "source": [
        "# first calculating biases\n",
        "from sklearn.metrics import matthews_corrcoef\n",
        "\n",
        "alpha,alpha1 = optimize(train_X,c1,c2,e,gaussian_kernel)\n",
        "p1,p2 = calculate_bias(alpha,alpha1,c1,c2,train_X,gaussian_kernel)\n",
        "\n",
        "pred_Y = []\n",
        "total_test = len(test_Y)\n",
        "correct = 0\n",
        "for i in range(total_test):\n",
        "  \n",
        "  res = predict(test_X[i],train_X,p1,p2,alpha,alpha1,gaussian_kernel)\n",
        "  pred_Y.append(int(res))\n",
        "  # print(res)\n",
        "\n",
        "print(\"matthews correlation coefficient: \",matthews_corrcoef(test_Y, pred_Y))"
      ],
      "execution_count": null,
      "outputs": [
        {
          "output_type": "stream",
          "text": [
            "optimal Solution found\n",
            "matthews correlation coefficient:  0.0\n"
          ],
          "name": "stdout"
        },
        {
          "output_type": "stream",
          "text": [
            "/usr/local/lib/python3.7/dist-packages/sklearn/metrics/_classification.py:900: RuntimeWarning: invalid value encountered in double_scalars\n",
            "  mcc = cov_ytyp / np.sqrt(cov_ytyt * cov_ypyp)\n"
          ],
          "name": "stderr"
        }
      ]
    },
    {
      "cell_type": "markdown",
      "metadata": {
        "id": "t9QAsOu56zUR"
      },
      "source": [
        "# Using Hellinger Kernel"
      ]
    },
    {
      "cell_type": "code",
      "metadata": {
        "colab": {
          "base_uri": "https://localhost:8080/"
        },
        "id": "njlVGnlX6zUc",
        "outputId": "0237ff84-8327-41b2-e25b-0c9f8f7c4e27"
      },
      "source": [
        "# first calculating biases\n",
        "from sklearn.metrics import matthews_corrcoef\n",
        "\n",
        "alpha,alpha1 = optimize(train_X,c1,c2,e,hellinger_kernel)\n",
        "p1,p2 = calculate_bias(alpha,alpha1,c1,c2,train_X,hellinger_kernel)\n",
        "\n",
        "pred_Y = []\n",
        "total_test = len(test_Y)\n",
        "correct = 0\n",
        "for i in range(total_test):\n",
        "  \n",
        "  res = predict(test_X[i],train_X,p1,p2,alpha,alpha1,hellinger_kernel)\n",
        "  pred_Y.append(int(res))\n",
        "  # print(res)\n",
        "\n",
        "print(\"matthews correlation coefficient: \",matthews_corrcoef(test_Y, pred_Y))"
      ],
      "execution_count": null,
      "outputs": [
        {
          "output_type": "stream",
          "text": [
            "optimal Solution found\n",
            "matthews correlation coefficient:  -0.15337059307783316\n"
          ],
          "name": "stdout"
        }
      ]
    },
    {
      "cell_type": "markdown",
      "metadata": {
        "id": "d1eb3nYj8JLk"
      },
      "source": [
        "# Using Chi square Kernel"
      ]
    },
    {
      "cell_type": "code",
      "metadata": {
        "colab": {
          "base_uri": "https://localhost:8080/"
        },
        "id": "BgK9AnUn8JLm",
        "outputId": "24df48f8-f8c9-4481-cb35-3aaac5864c8c"
      },
      "source": [
        "# first calculating biases\n",
        "from sklearn.metrics import matthews_corrcoef\n",
        "\n",
        "alpha,alpha1 = optimize(train_X,c1,c2,e,chi_square_kernel)\n",
        "p1,p2 = calculate_bias(alpha,alpha1,c1,c2,train_X,chi_square_kernel)\n",
        "\n",
        "pred_Y = []\n",
        "total_test = len(test_Y)\n",
        "correct = 0\n",
        "for i in range(total_test):\n",
        "  \n",
        "  res = predict(test_X[i],train_X,p1,p2,alpha,alpha1,chi_square_kernel)\n",
        "  pred_Y.append(int(res))\n",
        "  # print(res)\n",
        "\n",
        "print(\"matthews correlation coefficient: \",matthews_corrcoef(test_Y, pred_Y))"
      ],
      "execution_count": null,
      "outputs": [
        {
          "output_type": "stream",
          "text": [
            "optimal Solution found\n",
            "matthews correlation coefficient:  -0.054659483230836456\n"
          ],
          "name": "stdout"
        }
      ]
    },
    {
      "cell_type": "markdown",
      "metadata": {
        "id": "CEt0QnKRMkfr"
      },
      "source": [
        "# Using Intersection Kernel"
      ]
    },
    {
      "cell_type": "code",
      "metadata": {
        "colab": {
          "base_uri": "https://localhost:8080/"
        },
        "id": "CkE4sNK-MkgN",
        "outputId": "3cb408c0-212e-4b5d-9399-8b9b732a1152"
      },
      "source": [
        "# first calculating biases\n",
        "from sklearn.metrics import matthews_corrcoef\n",
        "\n",
        "alpha,alpha1 = optimize(train_X,c1,c2,e,intersection_kernel)\n",
        "p1,p2 = calculate_bias(alpha,alpha1,c1,c2,train_X,intersection_kernel)\n",
        "\n",
        "pred_Y = []\n",
        "total_test = len(test_Y)\n",
        "correct = 0\n",
        "for i in range(total_test):\n",
        "  \n",
        "  res = predict(test_X[i],train_X,p1,p2,alpha,alpha1,intersection_kernel)\n",
        "  pred_Y.append(int(res))\n",
        "  # print(res)\n",
        "\n",
        "print(\"matthews correlation coefficient: \",matthews_corrcoef(test_Y, pred_Y))"
      ],
      "execution_count": null,
      "outputs": [
        {
          "output_type": "stream",
          "text": [
            "optimal Solution found\n",
            "matthews correlation coefficient:  -0.1694709615988283\n"
          ],
          "name": "stdout"
        }
      ]
    }
  ]
}