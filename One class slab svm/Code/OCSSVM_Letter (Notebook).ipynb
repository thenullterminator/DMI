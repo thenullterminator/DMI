{
  "nbformat": 4,
  "nbformat_minor": 0,
  "metadata": {
    "colab": {
      "name": "OCSSVM Letter Dataset.ipynb",
      "provenance": []
    },
    "kernelspec": {
      "name": "python3",
      "display_name": "Python 3"
    },
    "language_info": {
      "name": "python"
    }
  },
  "cells": [
    {
      "cell_type": "markdown",
      "metadata": {
        "id": "iEsU2i1r-Nxy"
      },
      "source": [
        "# Essential imports"
      ]
    },
    {
      "cell_type": "code",
      "metadata": {
        "id": "OfzkUtMY4tOp"
      },
      "source": [
        "import cvxpy as cp\n",
        "import numpy as np\n",
        "import pandas as pd"
      ],
      "execution_count": null,
      "outputs": []
    },
    {
      "cell_type": "markdown",
      "metadata": {
        "id": "2-4AF2gFG1_p"
      },
      "source": [
        "# Preprocessing Data"
      ]
    },
    {
      "cell_type": "code",
      "metadata": {
        "colab": {
          "base_uri": "https://localhost:8080/"
        },
        "id": "rfu5SXPY_YJX",
        "outputId": "dd1851df-9da9-437d-ee44-7a7b21b0d2b0"
      },
      "source": [
        "data = pd.read_csv(\"/content/drive/MyDrive/DM/letter-recognition.csv\")\n",
        "data.columns = ['letter', 'xbox', 'ybox', 'width', 'height', 'onpix', 'xbar','ybar', 'x2bar', 'y2bar', 'xybar', 'x2ybar', 'xy2bar', 'xedge','xedgey', 'yedge', 'yedgex']\n",
        "print(data)"
      ],
      "execution_count": null,
      "outputs": [
        {
          "output_type": "stream",
          "text": [
            "      letter  xbox  ybox  width  height  ...  xy2bar  xedge  xedgey  yedge  yedgex\n",
            "0          I     5    12      3       7  ...       9      2       8      4      10\n",
            "1          D     4    11      6       8  ...       7      3       7      3       9\n",
            "2          N     7    11      6       6  ...      10      6      10      2       8\n",
            "3          G     2     1      3       1  ...       9      1       7      5      10\n",
            "4          S     4    11      5       8  ...       6      0       8      9       7\n",
            "...      ...   ...   ...    ...     ...  ...     ...    ...     ...    ...     ...\n",
            "19994      D     2     2      3       3  ...       4      2       8      3       7\n",
            "19995      C     7    10      8       8  ...      13      2       9      3       7\n",
            "19996      T     6     9      6       7  ...       5      2      12      2       4\n",
            "19997      S     2     3      4       2  ...       8      1       9      5       8\n",
            "19998      A     4     9      6       6  ...       8      2       7      2       8\n",
            "\n",
            "[19999 rows x 17 columns]\n"
          ],
          "name": "stdout"
        }
      ]
    },
    {
      "cell_type": "markdown",
      "metadata": {
        "id": "NkK58IN7GSVp"
      },
      "source": [
        "# Normalization"
      ]
    },
    {
      "cell_type": "code",
      "metadata": {
        "colab": {
          "base_uri": "https://localhost:8080/"
        },
        "id": "rzMVHNBx36qO",
        "outputId": "42870f94-c9e5-4363-e5c2-68d60e6b2c11"
      },
      "source": [
        "for i in range(1,17):\n",
        "  col = data.columns[i]\n",
        "  mx = max(data[col])\n",
        "  mn = min(data[col])\n",
        "  d = mx - mn\n",
        "  data[col] -= mn\n",
        "  data[col] /= d\n",
        "\n",
        "print(data)"
      ],
      "execution_count": null,
      "outputs": [
        {
          "output_type": "stream",
          "text": [
            "      letter      xbox      ybox  ...    xedgey     yedge    yedgex\n",
            "0          I  0.333333  0.800000  ...  0.533333  0.266667  0.666667\n",
            "1          D  0.266667  0.733333  ...  0.466667  0.200000  0.600000\n",
            "2          N  0.466667  0.733333  ...  0.666667  0.133333  0.533333\n",
            "3          G  0.133333  0.066667  ...  0.466667  0.333333  0.666667\n",
            "4          S  0.266667  0.733333  ...  0.533333  0.600000  0.466667\n",
            "...      ...       ...       ...  ...       ...       ...       ...\n",
            "19994      D  0.133333  0.133333  ...  0.533333  0.200000  0.466667\n",
            "19995      C  0.466667  0.666667  ...  0.600000  0.200000  0.466667\n",
            "19996      T  0.400000  0.600000  ...  0.800000  0.133333  0.266667\n",
            "19997      S  0.133333  0.200000  ...  0.600000  0.333333  0.533333\n",
            "19998      A  0.266667  0.600000  ...  0.466667  0.133333  0.533333\n",
            "\n",
            "[19999 rows x 17 columns]\n"
          ],
          "name": "stdout"
        }
      ]
    },
    {
      "cell_type": "code",
      "metadata": {
        "id": "WedCfJHD_dkG"
      },
      "source": [
        "onlyA_df = data.loc[data['letter']=='A']\n",
        "total = len(onlyA_df)\n",
        "train = int(0.8*total) # number of A samples in training\n",
        "test = total -train # number of A samples in testing\n",
        "onlyA = []\n",
        "\n",
        "for i in range(total):\n",
        "  temp = []\n",
        "  for j in range(1,17,1):\n",
        "    temp.append(onlyA_df.iloc[i,j])\n",
        "  onlyA.append(temp)\n",
        "\n",
        "onlyA = np.array(onlyA)"
      ],
      "execution_count": null,
      "outputs": []
    },
    {
      "cell_type": "markdown",
      "metadata": {
        "id": "2AW72LNKG4_w"
      },
      "source": [
        "# Train and Test split"
      ]
    },
    {
      "cell_type": "code",
      "metadata": {
        "colab": {
          "base_uri": "https://localhost:8080/"
        },
        "id": "qve9p-roCNtX",
        "outputId": "31792f3c-bf48-4725-f7de-6add8ff1a592"
      },
      "source": [
        "train_X = onlyA[0:train]\n",
        "print(train_X,train_X.shape)"
      ],
      "execution_count": null,
      "outputs": [
        {
          "output_type": "stream",
          "text": [
            "[[0.06666667 0.06666667 0.2        ... 0.4        0.13333333 0.46666667]\n",
            " [0.2        0.46666667 0.33333333 ... 0.4        0.2        0.53333333]\n",
            " [0.2        0.53333333 0.33333333 ... 0.4        0.2        0.46666667]\n",
            " ...\n",
            " [0.2        0.53333333 0.33333333 ... 0.46666667 0.06666667 0.53333333]\n",
            " [0.06666667 0.         0.13333333 ... 0.46666667 0.06666667 0.53333333]\n",
            " [0.13333333 0.2        0.2        ... 0.4        0.06666667 0.53333333]] (631, 16)\n"
          ],
          "name": "stdout"
        }
      ]
    },
    {
      "cell_type": "code",
      "metadata": {
        "colab": {
          "base_uri": "https://localhost:8080/"
        },
        "id": "g8A2SO4oCevU",
        "outputId": "833fcaa8-e3c0-4ada-8b8f-ce460d7ea44a"
      },
      "source": [
        "test_X = onlyA[train:]\n",
        "test_Y = [1]*test\n",
        "\n",
        "# including 5 samples each of remaining alphabets\n",
        "for i in range(1,26,1):\n",
        "  c = chr(i+ord('A'))\n",
        "  c_df = data.loc[data['letter']==c][0:5]\n",
        "  del c_df['letter']\n",
        "  c_df = c_df.to_numpy()\n",
        "  for j in c_df:\n",
        "    test_X = np.vstack((test_X,j))\n",
        "    test_Y.append(-1)\n",
        "\n",
        "test_Y = np.array(test_Y)\n",
        "print(test_X,test_X.shape)\n",
        "print(test_Y,test_Y.shape)"
      ],
      "execution_count": null,
      "outputs": [
        {
          "output_type": "stream",
          "text": [
            "[[0.4        0.66666667 0.6        ... 0.53333333 0.53333333 0.26666667]\n",
            " [0.2        0.6        0.4        ... 0.46666667 0.26666667 0.33333333]\n",
            " [0.2        0.4        0.33333333 ... 0.4        0.13333333 0.53333333]\n",
            " ...\n",
            " [0.2        0.53333333 0.26666667 ... 0.53333333 0.53333333 0.53333333]\n",
            " [0.06666667 0.         0.06666667 ... 0.53333333 0.4        0.53333333]\n",
            " [0.4        0.66666667 0.53333333 ... 0.46666667 0.4        0.6       ]] (283, 16)\n",
            "[ 1  1  1  1  1  1  1  1  1  1  1  1  1  1  1  1  1  1  1  1  1  1  1  1\n",
            "  1  1  1  1  1  1  1  1  1  1  1  1  1  1  1  1  1  1  1  1  1  1  1  1\n",
            "  1  1  1  1  1  1  1  1  1  1  1  1  1  1  1  1  1  1  1  1  1  1  1  1\n",
            "  1  1  1  1  1  1  1  1  1  1  1  1  1  1  1  1  1  1  1  1  1  1  1  1\n",
            "  1  1  1  1  1  1  1  1  1  1  1  1  1  1  1  1  1  1  1  1  1  1  1  1\n",
            "  1  1  1  1  1  1  1  1  1  1  1  1  1  1  1  1  1  1  1  1  1  1  1  1\n",
            "  1  1  1  1  1  1  1  1  1  1  1  1  1  1 -1 -1 -1 -1 -1 -1 -1 -1 -1 -1\n",
            " -1 -1 -1 -1 -1 -1 -1 -1 -1 -1 -1 -1 -1 -1 -1 -1 -1 -1 -1 -1 -1 -1 -1 -1\n",
            " -1 -1 -1 -1 -1 -1 -1 -1 -1 -1 -1 -1 -1 -1 -1 -1 -1 -1 -1 -1 -1 -1 -1 -1\n",
            " -1 -1 -1 -1 -1 -1 -1 -1 -1 -1 -1 -1 -1 -1 -1 -1 -1 -1 -1 -1 -1 -1 -1 -1\n",
            " -1 -1 -1 -1 -1 -1 -1 -1 -1 -1 -1 -1 -1 -1 -1 -1 -1 -1 -1 -1 -1 -1 -1 -1\n",
            " -1 -1 -1 -1 -1 -1 -1 -1 -1 -1 -1 -1 -1 -1 -1 -1 -1 -1 -1] (283,)\n"
          ],
          "name": "stdout"
        }
      ]
    },
    {
      "cell_type": "markdown",
      "metadata": {
        "id": "iTE6zY1c9-Kl"
      },
      "source": [
        "# Defining kernels"
      ]
    },
    {
      "cell_type": "code",
      "metadata": {
        "id": "ZM6uuEcj6SzR"
      },
      "source": [
        "def linear_kernel(x1, x2):\n",
        "\n",
        "  return np.dot(x1, x2)\n",
        "\n",
        "def polynomial_kernel(x, y, p=3):\n",
        "\n",
        "  return (1 + np.dot(x, y)) ** p\n",
        "\n",
        "def gaussian_kernel(x, y, sigma=5.0):\n",
        "\n",
        "  return np.exp(-np.linalg.norm(x-y)**2 / (2 * (sigma ** 2)))\n",
        "\n",
        "def hellinger_kernel(X1, X2):\n",
        "\n",
        "  X1,X2 = np.sqrt(X1),np.sqrt(X2)\n",
        "\n",
        "  return X1 @ X2\n",
        "\n",
        "def chi_square_kernel(x,y):\n",
        "\n",
        "  sum = 0.0\n",
        "\n",
        "  for i in range(len(x)):\n",
        "\n",
        "    if (x[i]+y[i]) != 0:\n",
        "      sum += (2*x[i]*y[i])/(x[i]+y[i])\n",
        "  \n",
        "  return sum\n",
        "\n",
        "def intersection_kernel(x,y):\n",
        "\n",
        "  sum = 0.0\n",
        "\n",
        "  for i in range(len(x)):\n",
        "\n",
        "    sum += min(x[i],y[i])\n",
        "  \n",
        "  return sum"
      ],
      "execution_count": null,
      "outputs": []
    },
    {
      "cell_type": "code",
      "metadata": {
        "colab": {
          "base_uri": "https://localhost:8080/"
        },
        "id": "5tyzqTTOLIMF",
        "outputId": "9d491495-c7a3-48d2-dc42-1dc860b80168"
      },
      "source": [
        "# x = \n",
        "# hellinger_kernel(np.array([1,2,3]),np.array([3,4,5]))\n",
        "np.sqrt([2,4,4])"
      ],
      "execution_count": null,
      "outputs": [
        {
          "output_type": "execute_result",
          "data": {
            "text/plain": [
              "array([1.41421356, 2.        , 2.        ])"
            ]
          },
          "metadata": {
            "tags": []
          },
          "execution_count": 96
        }
      ]
    },
    {
      "cell_type": "markdown",
      "metadata": {
        "id": "On-y1U2w-I7V"
      },
      "source": [
        "# Calculating kernel matrix"
      ]
    },
    {
      "cell_type": "code",
      "metadata": {
        "id": "DrOdee9O6pC_"
      },
      "source": [
        "def kernel_matrix(X,kernel=linear_kernel):\n",
        "  m = X.shape[0]\n",
        "  K = np.zeros((m,m))\n",
        "  for i in range(m):\n",
        "    for j in range(m):\n",
        "      K[i,j] = kernel(X[i], X[j])\n",
        "  \n",
        "  return K"
      ],
      "execution_count": null,
      "outputs": []
    },
    {
      "cell_type": "code",
      "metadata": {
        "colab": {
          "base_uri": "https://localhost:8080/"
        },
        "id": "rCXCPrRo3Jtf",
        "outputId": "3fc3c88e-630f-415c-d36e-b0e13cf0f809"
      },
      "source": [
        "kernel_matrix(train_X,hellinger_kernel)"
      ],
      "execution_count": null,
      "outputs": [
        {
          "output_type": "execute_result",
          "data": {
            "text/plain": [
              "array([[1.18133634, 1.33998342, 1.25077754, ..., 1.22565175, 1.17378779,\n",
              "        1.25077754],\n",
              "       [1.33998342, 1.6       , 1.51143787, ..., 1.4727148 , 1.30809446,\n",
              "        1.44067885],\n",
              "       [1.25077754, 1.51143787, 1.44683563, ..., 1.41264134, 1.21106014,\n",
              "        1.34329611],\n",
              "       ...,\n",
              "       [1.22565175, 1.4727148 , 1.41264134, ..., 1.43604395, 1.21837779,\n",
              "        1.31993266],\n",
              "       [1.17378779, 1.30809446, 1.21106014, ..., 1.21837779, 1.19629056,\n",
              "        1.24543611],\n",
              "       [1.25077754, 1.44067885, 1.34329611, ..., 1.31993266, 1.24543611,\n",
              "        1.33998342]])"
            ]
          },
          "metadata": {
            "tags": []
          },
          "execution_count": 86
        }
      ]
    },
    {
      "cell_type": "markdown",
      "metadata": {
        "id": "qRGUoWmJrRGT"
      },
      "source": [
        "# Parameters"
      ]
    },
    {
      "cell_type": "code",
      "metadata": {
        "id": "-2f05658rPbt"
      },
      "source": [
        "m = len(train_X)\n",
        "v1,v2 = 0.9,0.9\n",
        "e = 2/3\n",
        "c1,c2 = 1/(v1*m),e/(v2*m)"
      ],
      "execution_count": null,
      "outputs": []
    },
    {
      "cell_type": "markdown",
      "metadata": {
        "id": "aYlDXhG_-UI0"
      },
      "source": [
        "# Solving Optimization problem"
      ]
    },
    {
      "cell_type": "code",
      "metadata": {
        "id": "uhTnLjUK71Sj"
      },
      "source": [
        "def optimize(train_X,c1,c2,e,kernel=linear_kernel):\n",
        "\n",
        "  m = len(train_X) # number of samples\n",
        "  n = len(train_X[0])  # number of features in one samples\n",
        "\n",
        "  alpha = cp.Variable(m)\n",
        "  alpha1 = cp.Variable(m)\n",
        "\n",
        "  A1 = np.ones((1,m))\n",
        "  b1 = np.array([1])\n",
        "  b2 = np.array([e])\n",
        "\n",
        "  G = np.eye(m)\n",
        "  h = np.full((m,),0)\n",
        "  h1 = np.full((m,),c1)\n",
        "  h2 = np.full((m,),c2)\n",
        "  G1 = -np.eye(m)\n",
        "\n",
        "  K = kernel_matrix(train_X,kernel)\n",
        "  # print(K)\n",
        "\n",
        "  prob = cp.Problem(cp.Minimize((1/2)*cp.quad_form((alpha-alpha1),K)),\n",
        "                    [A1 @ alpha == b1,\n",
        "                    A1 @ alpha1 == b2,\n",
        "                    G @ alpha <= h1,\n",
        "                    G @ alpha1 <=h2,\n",
        "                    G1 @ alpha <= h,\n",
        "                    G1 @ alpha1 <= h])\n",
        "  prob.solve()\n",
        "  print(prob.status+\" Solution found\")\n",
        "\n",
        "  # print(\"\\nThe optimal value is\", prob.value)\n",
        "  # print(\"A solution for dual variables is\")\n",
        "  alpha = alpha.value\n",
        "  alpha1 = alpha1.value\n",
        "  # print(alpha1)\n",
        "  # print(alpha)\n",
        "\n",
        "  return alpha,alpha1"
      ],
      "execution_count": null,
      "outputs": []
    },
    {
      "cell_type": "markdown",
      "metadata": {
        "id": "ia7Ynpn5-nsv"
      },
      "source": [
        "# Calculating offsets/bias"
      ]
    },
    {
      "cell_type": "code",
      "metadata": {
        "id": "RE-EKv8hABTU"
      },
      "source": [
        "def calculate_bias(alpha,alpha1,c1,c2,X,kernel=linear_kernel):\n",
        "\n",
        "  m = X.shape[0] # number of samples\n",
        "\n",
        "  n = 0 # number of support vectors\n",
        "  sum = 0\n",
        "\n",
        "  for i in range(m):\n",
        "    if (alpha[i]>0 and alpha[i]<c1):\n",
        "      n+=1\n",
        "      for j in range(m):\n",
        "        sum += ((alpha[j]-alpha1[j])*kernel(X[i],X[j]))\n",
        "  \n",
        "  sum = sum/n;\n",
        "  # print(n,' out of ',m)\n",
        "  p1 = sum\n",
        "\n",
        "  n = 0 # number of support vectors\n",
        "  sum = 0.0\n",
        "\n",
        "  for i in range(m):\n",
        "    if (alpha1[i]>0 and alpha1[i]<c2):\n",
        "      n+=1\n",
        "      for j in range(m):\n",
        "        sum += ((alpha[j]-alpha1[j])*kernel(X[i],X[j]))\n",
        "  \n",
        "  sum = sum/n;\n",
        "  # print(n,' out of ',m)\n",
        "\n",
        "  p2=sum\n",
        "\n",
        "  return p1,p2"
      ],
      "execution_count": null,
      "outputs": []
    },
    {
      "cell_type": "markdown",
      "metadata": {
        "id": "OPnB2Ks7-sTu"
      },
      "source": [
        "# Calculating svm score"
      ]
    },
    {
      "cell_type": "code",
      "metadata": {
        "id": "rQqaqLHV7ZcL"
      },
      "source": [
        "def svm_score(x,train_X,alpha,alpha1,kernel=linear_kernel):\n",
        "\n",
        "  m = train_X.shape[0] # number of samples\n",
        "  score = 0.0\n",
        "\n",
        "  for i in range(m):\n",
        "    score += (alpha[i]-alpha1[i])*kernel(x,train_X[i])\n",
        "  \n",
        "  return score"
      ],
      "execution_count": null,
      "outputs": []
    },
    {
      "cell_type": "markdown",
      "metadata": {
        "id": "3O4oWqNj-xbr"
      },
      "source": [
        "# Prediction function"
      ]
    },
    {
      "cell_type": "code",
      "metadata": {
        "id": "oWpuQTBx8xS5"
      },
      "source": [
        "def predict(x,train_X,p1,p2,alpha,alpha1,kernel=linear_kernel):\n",
        "\n",
        "  score = svm_score(x,train_X,alpha,alpha1,kernel)\n",
        "  return np.sign((score-p1)*(p2-score))"
      ],
      "execution_count": null,
      "outputs": []
    },
    {
      "cell_type": "markdown",
      "metadata": {
        "id": "97tGRqgCLtjs"
      },
      "source": [
        "# Using Linear Kernel"
      ]
    },
    {
      "cell_type": "code",
      "metadata": {
        "colab": {
          "base_uri": "https://localhost:8080/"
        },
        "id": "bUd42kOW628l",
        "outputId": "a77823ff-f10c-4ce0-9e8b-22703b11ccc8"
      },
      "source": [
        "# first calculating biases\n",
        "from sklearn.metrics import matthews_corrcoef\n",
        "\n",
        "alpha,alpha1 = optimize(train_X,c1,c2,e,linear_kernel)\n",
        "p1,p2 = calculate_bias(alpha,alpha1,c1,c2,train_X,linear_kernel)\n",
        "\n",
        "pred_Y = []\n",
        "total_test = len(test_Y)\n",
        "correct = 0\n",
        "for i in range(total_test):\n",
        "  \n",
        "  res = predict(test_X[i],train_X,p1,p2,alpha,alpha1,linear_kernel)\n",
        "  pred_Y.append(int(res))\n",
        "  # print(res)\n",
        "\n",
        "print(\"matthews correlation coefficient: \",matthews_corrcoef(test_Y, pred_Y))"
      ],
      "execution_count": null,
      "outputs": [
        {
          "output_type": "stream",
          "text": [
            "optimal Solution found\n",
            "matthews correlation coefficient:  0.1654787361413416\n"
          ],
          "name": "stdout"
        }
      ]
    },
    {
      "cell_type": "markdown",
      "metadata": {
        "id": "4LaQ27rANCUc"
      },
      "source": [
        "# Using Polynomial Kernel"
      ]
    },
    {
      "cell_type": "code",
      "metadata": {
        "colab": {
          "base_uri": "https://localhost:8080/"
        },
        "id": "QZtbaOBNNCUd",
        "outputId": "118f8d1d-32a1-484a-80ad-bf72c4e3603c"
      },
      "source": [
        "# first calculating biases\n",
        "from sklearn.metrics import matthews_corrcoef\n",
        "\n",
        "alpha,alpha1 = optimize(train_X,c1,c2,e,polynomial_kernel)\n",
        "p1,p2 = calculate_bias(alpha,alpha1,c1,c2,train_X,polynomial_kernel)\n",
        "\n",
        "pred_Y = []\n",
        "total_test = len(test_Y)\n",
        "correct = 0\n",
        "for i in range(total_test):\n",
        "  \n",
        "  res = predict(test_X[i],train_X,p1,p2,alpha,alpha1,polynomial_kernel)\n",
        "  pred_Y.append(int(res))\n",
        "  # print(res)\n",
        "\n",
        "print(\"matthews correlation coefficient: \",matthews_corrcoef(test_Y, pred_Y))"
      ],
      "execution_count": null,
      "outputs": [
        {
          "output_type": "stream",
          "text": [
            "optimal Solution found\n",
            "matthews correlation coefficient:  0.10884988311277556\n"
          ],
          "name": "stdout"
        }
      ]
    },
    {
      "cell_type": "markdown",
      "metadata": {
        "id": "SO-0zxxWNR7J"
      },
      "source": [
        "# Using Gaussian Kernel"
      ]
    },
    {
      "cell_type": "code",
      "metadata": {
        "colab": {
          "base_uri": "https://localhost:8080/"
        },
        "id": "sptwwr0qNR7K",
        "outputId": "dd0e6c5a-29db-4be2-c909-62de3b3c6557"
      },
      "source": [
        "# first calculating biases\n",
        "from sklearn.metrics import matthews_corrcoef\n",
        "\n",
        "alpha,alpha1 = optimize(train_X,c1,c2,e,gaussian_kernel)\n",
        "p1,p2 = calculate_bias(alpha,alpha1,c1,c2,train_X,gaussian_kernel)\n",
        "\n",
        "pred_Y = []\n",
        "total_test = len(test_Y)\n",
        "correct = 0\n",
        "for i in range(total_test):\n",
        "  \n",
        "  res = predict(test_X[i],train_X,p1,p2,alpha,alpha1,gaussian_kernel)\n",
        "  pred_Y.append(int(res))\n",
        "  # print(res)\n",
        "\n",
        "print(\"matthews correlation coefficient: \",matthews_corrcoef(test_Y, pred_Y))"
      ],
      "execution_count": null,
      "outputs": [
        {
          "output_type": "stream",
          "text": [
            "optimal Solution found\n",
            "matthews correlation coefficient:  -0.1873314482020479\n"
          ],
          "name": "stdout"
        }
      ]
    },
    {
      "cell_type": "markdown",
      "metadata": {
        "id": "t9QAsOu56zUR"
      },
      "source": [
        "# Using Hellinger Kernel"
      ]
    },
    {
      "cell_type": "code",
      "metadata": {
        "colab": {
          "base_uri": "https://localhost:8080/"
        },
        "id": "njlVGnlX6zUc",
        "outputId": "7f538ade-bc34-40e9-bf3c-cb41271bcf43"
      },
      "source": [
        "# first calculating biases\n",
        "from sklearn.metrics import matthews_corrcoef\n",
        "\n",
        "alpha,alpha1 = optimize(train_X,c1,c2,e,hellinger_kernel)\n",
        "p1,p2 = calculate_bias(alpha,alpha1,c1,c2,train_X,hellinger_kernel)\n",
        "\n",
        "pred_Y = []\n",
        "total_test = len(test_Y)\n",
        "correct = 0\n",
        "for i in range(total_test):\n",
        "  \n",
        "  res = predict(test_X[i],train_X,p1,p2,alpha,alpha1,hellinger_kernel)\n",
        "  pred_Y.append(int(res))\n",
        "  # print(res)\n",
        "\n",
        "print(\"matthews correlation coefficient: \",matthews_corrcoef(test_Y, pred_Y))"
      ],
      "execution_count": null,
      "outputs": [
        {
          "output_type": "stream",
          "text": [
            "optimal Solution found\n",
            "matthews correlation coefficient:  0.21491918681694266\n"
          ],
          "name": "stdout"
        }
      ]
    },
    {
      "cell_type": "markdown",
      "metadata": {
        "id": "d1eb3nYj8JLk"
      },
      "source": [
        "# Using Chi square Kernel"
      ]
    },
    {
      "cell_type": "code",
      "metadata": {
        "colab": {
          "base_uri": "https://localhost:8080/"
        },
        "id": "BgK9AnUn8JLm",
        "outputId": "00324927-daa2-4624-c870-aa4f23e8934c"
      },
      "source": [
        "# first calculating biases\n",
        "from sklearn.metrics import matthews_corrcoef\n",
        "\n",
        "alpha,alpha1 = optimize(train_X,c1,c2,e,chi_square_kernel)\n",
        "p1,p2 = calculate_bias(alpha,alpha1,c1,c2,train_X,chi_square_kernel)\n",
        "\n",
        "pred_Y = []\n",
        "total_test = len(test_Y)\n",
        "correct = 0\n",
        "for i in range(total_test):\n",
        "  \n",
        "  res = predict(test_X[i],train_X,p1,p2,alpha,alpha1,chi_square_kernel)\n",
        "  pred_Y.append(int(res))\n",
        "  # print(res)\n",
        "\n",
        "print(\"matthews correlation coefficient: \",matthews_corrcoef(test_Y, pred_Y))"
      ],
      "execution_count": null,
      "outputs": [
        {
          "output_type": "stream",
          "text": [
            "optimal Solution found\n",
            "matthews correlation coefficient:  0.24173674600428716\n"
          ],
          "name": "stdout"
        }
      ]
    },
    {
      "cell_type": "markdown",
      "metadata": {
        "id": "CEt0QnKRMkfr"
      },
      "source": [
        "# Using Intersection Kernel"
      ]
    },
    {
      "cell_type": "code",
      "metadata": {
        "colab": {
          "base_uri": "https://localhost:8080/"
        },
        "id": "CkE4sNK-MkgN",
        "outputId": "cb86d806-75ae-4ea3-8641-a06f2e73d9cd"
      },
      "source": [
        "# first calculating biases\n",
        "from sklearn.metrics import matthews_corrcoef\n",
        "\n",
        "alpha,alpha1 = optimize(train_X,c1,c2,e,intersection_kernel)\n",
        "p1,p2 = calculate_bias(alpha,alpha1,c1,c2,train_X,intersection_kernel)\n",
        "\n",
        "pred_Y = []\n",
        "total_test = len(test_Y)\n",
        "correct = 0\n",
        "for i in range(total_test):\n",
        "  \n",
        "  res = predict(test_X[i],train_X,p1,p2,alpha,alpha1,intersection_kernel)\n",
        "  pred_Y.append(int(res))\n",
        "  # print(res)\n",
        "\n",
        "print(\"matthews correlation coefficient: \",matthews_corrcoef(test_Y, pred_Y))"
      ],
      "execution_count": null,
      "outputs": [
        {
          "output_type": "stream",
          "text": [
            "optimal Solution found\n",
            "matthews correlation coefficient:  0.18253628081942064\n"
          ],
          "name": "stdout"
        }
      ]
    }
  ]
}